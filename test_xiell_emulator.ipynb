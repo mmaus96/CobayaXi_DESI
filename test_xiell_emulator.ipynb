{
 "cells": [
  {
   "cell_type": "code",
   "execution_count": 1,
   "id": "ba3a3968-4b8a-4acd-84a6-26585904cc91",
   "metadata": {},
   "outputs": [],
   "source": [
    "import numpy as np\n",
    "import sys,os\n",
    "import matplotlib.pyplot as plt\n",
    "%matplotlib inline"
   ]
  },
  {
   "cell_type": "code",
   "execution_count": 52,
   "id": "73d3ffe0-7e42-4ad5-bc15-c78af4cd11c3",
   "metadata": {},
   "outputs": [],
   "source": [
    "sys.path.append('/global/homes/m/mmaus/Python/velocileptors')\n",
    "sys.path.append('emulator/fullshape_omb/')\n",
    "from classy import Class\n",
    "from make_pkclass import make_pkclass_dists\n",
    "from linear_theory import f_of_a\n",
    "from velocileptors.LPT.lpt_rsd_fftw import LPT_RSD\n",
    "from velocileptors.Utils.loginterp import loginterp\n",
    "from scipy.interpolate import interp1d"
   ]
  },
  {
   "cell_type": "code",
   "execution_count": 3,
   "id": "d82d6e9d-a6fa-4495-a3c3-6fbd68af3b0f",
   "metadata": {},
   "outputs": [],
   "source": [
    "z = 0.8\n",
    "fid_class, fid_dists = make_pkclass_dists(z=z)"
   ]
  },
  {
   "cell_type": "code",
   "execution_count": 63,
   "id": "9cc7ba75-afac-4dd7-a478-ba5c17cc88d1",
   "metadata": {},
   "outputs": [],
   "source": [
    "omega_b,omega_cdm, h, sigma8 = [0.02237, 0.1200,0.68, 0.73]\n",
    "Hzfid, chizfid = fid_dists\n",
    "speed_of_light = 2.99792458e5\n",
    "\n",
    "# omega_b = 0.02242\n",
    "\n",
    "As =  2.0830e-9\n",
    "ns = 0.9649\n",
    "\n",
    "nnu = 1\n",
    "nur = 2.0328\n",
    "# mnu = 0.06\n",
    "omega_nu = 0.0006442 #0.0106 * mnu\n",
    "# mnu = omega_nu / 0.0106\n",
    "\n",
    "# omega_c = (OmegaM - omega_b/h**2 - omega_nu/h**2) * h**2\n",
    "OmegaM = (omega_cdm + omega_b + omega_nu) / h**2\n",
    "\n",
    "pkparams = {\n",
    "    'output': 'mPk',\n",
    "    'P_k_max_h/Mpc': 20.,\n",
    "    'z_pk': '0.0,10',\n",
    "    'A_s': As,\n",
    "    'n_s': ns,\n",
    "    'h': h,\n",
    "    'N_ur': nur,\n",
    "    'N_ncdm': nnu,\n",
    "    'omega_ncdm': omega_nu,\n",
    "    # 'm_ncdm': mnu,\n",
    "    'tau_reio': 0.0568,\n",
    "    'omega_b': omega_b,\n",
    "    'omega_cdm': omega_cdm}\n",
    "\n",
    "pkclass = Class()\n",
    "pkclass.set(pkparams)\n",
    "pkclass.compute()\n",
    "\n",
    "# Caluclate AP parameters\n",
    "Hz = pkclass.Hubble(z) * speed_of_light / h # this H(z) in units km/s/(Mpc/h) = 100 * E(z)\n",
    "chiz = pkclass.angular_distance(z) * (1.+z) * h # this is the comoving radius in units of Mpc/h \n",
    "apar, aperp = Hzfid / Hz, chiz / chizfid\n",
    "\n",
    "# if ap_off:\n",
    "#     apar, aperp = 1.0, 1.0\n",
    "\n",
    "# Calculate growth rate\n",
    "fnu = pkclass.Omega_nu / pkclass.Omega_m()\n",
    "f   = f_of_a(1/(1.+z), OmegaM=OmegaM) * (1 - 0.6 * fnu)\n",
    "\n",
    "# Calculate and renormalize power spectrum\n",
    "ki = np.logspace(-3.0,1.0,200)\n",
    "pi = np.array( [pkclass.pk_cb(k*h, z ) * h**3 for k in ki] )\n",
    "pi = (sigma8/pkclass.sigma8())**2 * pi\n",
    "\n",
    "kvec = np.concatenate( ([0.0005,],\\\n",
    "                        np.logspace(np.log10(0.0015),np.log10(0.025),10, endpoint=True),\\\n",
    "                        np.arange(0.03,0.51,0.01)) )\n",
    "\n",
    "# Now do the RSD\n",
    "ex_min = -4\n",
    "ex_max = 3\n",
    "N = 2000\n",
    "\n",
    "modPT = LPT_RSD(ki, pi, kIR=0.2,\\\n",
    "            cutoff=10, extrap_min = ex_min, extrap_max = ex_max, N = 2000, threads=1, jn=5)\n",
    "modPT.make_pltable(f, kv=kvec, apar=apar, aperp=aperp, ngauss=3)\n",
    "\n",
    "p0table,p2table,p4table = modPT.p0ktable, modPT.p2ktable, modPT.p4ktable"
   ]
  },
  {
   "cell_type": "code",
   "execution_count": 64,
   "id": "94382a5e-c979-4933-9207-c75781140f6e",
   "metadata": {},
   "outputs": [
    {
     "data": {
      "text/plain": [
       "((59, 19), 59)"
      ]
     },
     "execution_count": 64,
     "metadata": {},
     "output_type": "execute_result"
    }
   ],
   "source": [
    "np.shape(p0table),len(kvec)"
   ]
  },
  {
   "cell_type": "code",
   "execution_count": 71,
   "id": "80436078-0f6d-4969-a3a6-1c3460f3e494",
   "metadata": {},
   "outputs": [],
   "source": [
    "rmin, rmax, dr = 1., 200., 0.5\n",
    "rout = np.arange(rmin,rmax,dr)\n",
    "kint = modPT.kint\n",
    "p0int_table = np.zeros((2000,19))\n",
    "p2int_table = np.zeros((2000,19))\n",
    "p4int_table = np.zeros((2000,19))\n",
    "\n",
    "xi0_table = np.zeros((len(rout),19))\n",
    "xi2_table = np.zeros((len(rout),19))\n",
    "xi4_table = np.zeros((len(rout),19))\n",
    "for i in range(19):\n",
    "    damping = np.exp(-(kint/10)**2)\n",
    "    p0int = loginterp(kvec, p0table[:,i])(kint) * damping\n",
    "    p2int = loginterp(kvec, p2table[:,i])(kint) * damping\n",
    "    p4int = loginterp(kvec, p4table[:,i])(kint) * damping\n",
    "    \n",
    "    ss0, xi0t = modPT.sphr.sph(0,p0int)\n",
    "    ss2, xi2t = modPT.sphr.sph(2,p2int); xi2t *= -1\n",
    "    ss4, xi4t = modPT.sphr.sph(4,p4int)\n",
    "    \n",
    "    p0int_table[:,i] = p0int\n",
    "    p2int_table[:,i] = p2int\n",
    "    p4int_table[:,i] = p4int\n",
    "    \n",
    "    xi0_table[:,i] = interp1d(ss0,xi0t,kind='cubic')(rout) \n",
    "    xi2_table[:,i] = interp1d(ss0,xi2t,kind='cubic')(rout)\n",
    "    xi4_table[:,i] = interp1d(ss0,xi4t,kind='cubic')(rout)\n",
    "    "
   ]
  },
  {
   "cell_type": "code",
   "execution_count": 81,
   "id": "ad10ce30-1311-461f-b1d4-550af979c2a7",
   "metadata": {},
   "outputs": [
    {
     "data": {
      "text/plain": [
       "(-10.0, 10.0)"
      ]
     },
     "execution_count": 81,
     "metadata": {},
     "output_type": "execute_result"
    },
    {
     "data": {
      "image/png": "[encoded data removed]",
      "text/plain": [
       "<Figure size 432x288 with 1 Axes>"
      ]
     },
     "metadata": {
      "needs_background": "light"
     },
     "output_type": "display_data"
    }
   ],
   "source": [
    "# np.shape(xi0t)\n",
    "# plt.plot(ss0,ss0**2*xi0t,lw=4)\n",
    "# plt.plot(ss0,ss0**2*xi2t,lw=4)\n",
    "# plt.plot(ss0,ss0**2*xi4t,lw=4)\n",
    "\n",
    "plt.plot(rout,rout**2*xi0_table[:,1],'k--')\n",
    "plt.plot(rout,rout**2*xi2_table[:,1],'k--')\n",
    "plt.plot(rout,rout**2*xi4_table[:,1],'k--')\n",
    "\n",
    "plt.xlim(10,180)\n",
    "plt.ylim(-10,10)"
   ]
  },
  {
   "cell_type": "code",
   "execution_count": 39,
   "id": "54dfed1b-771c-49df-845e-77103eeece16",
   "metadata": {},
   "outputs": [
    {
     "data": {
      "text/plain": [
       "(0.0001, 1.0)"
      ]
     },
     "execution_count": 39,
     "metadata": {},
     "output_type": "execute_result"
    },
    {
     "data": {
      "image/png": "[encoded data removed]",
      "text/plain": [
       "<Figure size 432x288 with 1 Axes>"
      ]
     },
     "metadata": {
      "needs_background": "light"
     },
     "output_type": "display_data"
    }
   ],
   "source": [
    "j=5\n",
    "np.shape(p0int)\n",
    "plt.semilogx(kvec,kvec*p0table[:,j],'o')\n",
    "plt.semilogx(kint,kint*p0int_table[:,j])\n",
    "plt.xlim(10**ex_min,1.0)\n",
    "# plt.ylim(-0.01,0.01)"
   ]
  },
  {
   "cell_type": "code",
   "execution_count": null,
   "id": "790d6289-7daf-484b-a063-d88dc2f844ff",
   "metadata": {},
   "outputs": [],
   "source": []
  }
 ],
 "metadata": {
  "kernelspec": {
   "display_name": "Cobaya-env",
   "language": "python",
   "name": "cobaya"
  },
  "language_info": {
   "codemirror_mode": {
    "name": "ipython",
    "version": 3
   },
   "file_extension": ".py",
   "mimetype": "text/x-python",
   "name": "python",
   "nbconvert_exporter": "python",
   "pygments_lexer": "ipython3",
   "version": "3.9.7"
  }
 },
 "nbformat": 4,
 "nbformat_minor": 5
}
